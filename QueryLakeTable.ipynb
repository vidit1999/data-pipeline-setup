{
 "cells": [
  {
   "cell_type": "code",
   "execution_count": 1,
   "id": "4c47ba96-724a-40c0-9457-e1eca39ac423",
   "metadata": {},
   "outputs": [],
   "source": [
    "import os\n",
    "from delta.tables import DeltaTable\n",
    "from pyspark.sql import SparkSession\n",
    "from dateutil.parser import parse\n",
    "import pyspark.sql.types as T\n",
    "import pyspark.sql.functions as F\n",
    "import pandas as pd\n",
    "import psycopg2\n",
    "import requests\n",
    "\n",
    "pd.set_option('display.max_columns', None)\n",
    "pd.set_option('display.max_rows', None)"
   ]
  },
  {
   "cell_type": "code",
   "execution_count": 2,
   "id": "55690dc0-63fb-4ffa-b247-9a8b6d6c80fa",
   "metadata": {},
   "outputs": [
    {
     "name": "stdout",
     "output_type": "stream",
     "text": [
      "name 'spark' is not defined\n"
     ]
    },
    {
     "name": "stderr",
     "output_type": "stream",
     "text": [
      "Setting default log level to \"WARN\".\n",
      "To adjust logging level use sc.setLogLevel(newLevel). For SparkR, use setLogLevel(newLevel).\n"
     ]
    }
   ],
   "source": [
    "try:\n",
    "    spark.stop()\n",
    "except Exception as e: \n",
    "    print(e)\n",
    "\n",
    "spark = (\n",
    "    SparkSession.builder \\\n",
    "    .appName(\"SparkLocalStackS3Integration\") \\\n",
    "    .config(\"spark.hadoop.fs.s3a.endpoint\", os.environ['AWS_ENDPOINT_URL'])\\\n",
    "    .config(\"spark.hadoop.fs.s3a.access.key\", os.environ[\"AWS_ACCESS_KEY_ID\"])\\\n",
    "    .config(\"spark.hadoop.fs.s3a.secret.key\",os.environ[\"AWS_SECRET_ACCESS_KEY\"])\\\n",
    "    .config(\"spark.hadoop.fs.s3a.path.style.access\", \"true\")\\\n",
    "    .config(\"spark.hadoop.fs.s3a.connection.ssl.enabled\", \"false\")\\\n",
    "    .config(\"spark.hadoop.fs.s3a.impl\", \"org.apache.hadoop.fs.s3a.S3AFileSystem\")\\\n",
    "    .config(\"spark.hadoop.fs.s3a.aws.credentials.provider\", \"org.apache.hadoop.fs.s3a.SimpleAWSCredentialsProvider\")\\\n",
    "    .config(\"spark.sql.extensions\", \"io.delta.sql.DeltaSparkSessionExtension\") \\\n",
    "    .config(\"spark.sql.catalog.spark_catalog\", \"org.apache.spark.sql.delta.catalog.DeltaCatalog\")\n",
    "    .getOrCreate()\n",
    ")"
   ]
  },
  {
   "cell_type": "code",
   "execution_count": 7,
   "id": "4c0d2ab8-5213-456b-8b0b-a7c7b6495b60",
   "metadata": {},
   "outputs": [
    {
     "name": "stdout",
     "output_type": "stream",
     "text": [
      "s3a://my-storage-bucket/upsert-locations/postgres.public.task_instance_1_1\n"
     ]
    }
   ],
   "source": [
    "pipeline_config_id = 1\n",
    "DATALAKE_PATH = requests.get(f\"http://backend:8000/configs/{pipeline_config_id}/\").json()[\"upsert_write_path\"]\n",
    "print(DATALAKE_PATH)\n"
   ]
  },
  {
   "cell_type": "code",
   "execution_count": null,
   "id": "76de4cc3-16de-4e1b-878c-12c341d8bd6a",
   "metadata": {},
   "outputs": [],
   "source": [
    "datalake_df = spark.read.format('delta').load(DATALAKE_PATH)"
   ]
  },
  {
   "cell_type": "code",
   "execution_count": null,
   "id": "98112b87-e465-405f-8cc6-06b38f4411ff",
   "metadata": {},
   "outputs": [],
   "source": [
    "datalake_df.limit(10).toPanadas()"
   ]
  },
  {
   "cell_type": "code",
   "execution_count": null,
   "id": "a9c833b1-2251-44df-90ae-b884a861bdad",
   "metadata": {},
   "outputs": [],
   "source": [
    "spark.sql(f\"\"\"select * from delta.`{DATALAKE_PATH}` limit 10\"\"\").toPanadas()"
   ]
  },
  {
   "cell_type": "code",
   "execution_count": null,
   "id": "180ee728-7420-4728-868b-69376e411b06",
   "metadata": {},
   "outputs": [],
   "source": []
  }
 ],
 "metadata": {
  "kernelspec": {
   "display_name": "Python 3 (ipykernel)",
   "language": "python",
   "name": "python3"
  },
  "language_info": {
   "codemirror_mode": {
    "name": "ipython",
    "version": 3
   },
   "file_extension": ".py",
   "mimetype": "text/x-python",
   "name": "python",
   "nbconvert_exporter": "python",
   "pygments_lexer": "ipython3",
   "version": "3.12.10"
  }
 },
 "nbformat": 4,
 "nbformat_minor": 5
}
